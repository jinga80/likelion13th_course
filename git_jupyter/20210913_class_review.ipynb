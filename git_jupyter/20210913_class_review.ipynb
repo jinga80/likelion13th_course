{
 "cells": [
  {
   "cell_type": "code",
   "execution_count": 16,
   "id": "8affb224",
   "metadata": {},
   "outputs": [],
   "source": [
    "from selenium import webdriver\n",
    "from bs4 import BeautifulSoup"
   ]
  },
  {
   "cell_type": "code",
   "execution_count": 17,
   "id": "8347b316",
   "metadata": {},
   "outputs": [],
   "source": [
    "\n",
    "import time\n",
    "\n",
    "url = 'https://pythonstart.github.io/web/'\n",
    "chrome_path = r'/opt/homebrew/bin/chromedriver'\n",
    "driver = webdriver.Chrome(executable_path=chrome_path)\n",
    "driver.get(url)"
   ]
  },
  {
   "cell_type": "code",
   "execution_count": 18,
   "id": "62a2ae11",
   "metadata": {},
   "outputs": [
    {
     "data": {
      "text/plain": [
       "<title>나의 웹 페이지</title>"
      ]
     },
     "execution_count": 18,
     "metadata": {},
     "output_type": "execute_result"
    }
   ],
   "source": [
    "### 웹 페이지로부터 html source코드를 넘겨받을 수 있다.\n",
    "page = driver.page_source\n",
    "soup = BeautifulSoup(page, 'lxml')\n",
    "soup.title"
   ]
  },
  {
   "cell_type": "code",
   "execution_count": 21,
   "id": "08bffc12",
   "metadata": {},
   "outputs": [
    {
     "name": "stdout",
     "output_type": "stream",
     "text": [
      "01. 제목 가져오기(title)\n",
      "02. 텍스트 가져오기(p)\n",
      "03. 링크 가져오기(a)\n",
      "04. 이미지 정보 가져오기(img)\n",
      "05. 리스트 정보 가져오기(ul,ol)\n",
      "06. id를 활용한 정보 획득\n",
      "07. class를 활용한 정보 획득\n",
      "08. 하나의 이미지 다운로드\n",
      "09. 여러개의 이미지 다운로드\n",
      "10. 랭킹 정보 가져오기(웹 크롤링)\n"
     ]
    }
   ],
   "source": [
    "a_tag = driver.find_elements_by_css_selector(\"ul a\")\n",
    "for i in a_tag:\n",
    "    print(i.text)"
   ]
  },
  {
   "cell_type": "code",
   "execution_count": 22,
   "id": "660be278",
   "metadata": {},
   "outputs": [],
   "source": [
    "id_tag = driver.find_elements_by_css_selector(\"#rank\")"
   ]
  },
  {
   "cell_type": "code",
   "execution_count": 25,
   "id": "c8165b8e",
   "metadata": {},
   "outputs": [
    {
     "name": "stdout",
     "output_type": "stream",
     "text": [
      "10. 랭킹 정보 가져오기(웹 크롤링)\n"
     ]
    }
   ],
   "source": [
    "for i in id_tag:\n",
    "    print(i.text)"
   ]
  },
  {
   "cell_type": "code",
   "execution_count": 26,
   "id": "c5280b50",
   "metadata": {},
   "outputs": [
    {
     "data": {
      "text/plain": [
       "<html><head>\n",
       "<title>나의 웹 페이지</title>\n",
       "</head>\n",
       "<body>\n",
       "<h1> my web page </h1>\n",
       "<ul>\n",
       "<a href=\"./01.html\" name=\"link_get\" target=\"_blank\"> 01. 제목 가져오기(title) </a> <br/>\n",
       "<a href=\"./02.html\" name=\"text_get\" target=\"_blank\"> 02. 텍스트 가져오기(p) </a> <br/>\n",
       "<a href=\"./03.html\" name=\"link_get\" target=\"_blank\"> 03. 링크 가져오기(a) </a> <br/>\n",
       "<a href=\"https://pythonstart.github.io/web/04.html\" target=\"_blank\"> 04. 이미지 정보 가져오기(img) </a> <br/>\n",
       "<a href=\"./05.html\" target=\"_blank\"> 05. 리스트 정보 가져오기(ul,ol) </a> <br/>\n",
       "<a href=\"./06.html\" target=\"_blank\"> 06. id를 활용한 정보 획득 </a> <br/>\n",
       "<a href=\"./07.html\" target=\"_blank\"> 07. class를 활용한 정보 획득 </a> <br/>\n",
       "<a href=\"./08.html\" target=\"_blank\"> 08. 하나의 이미지 다운로드 </a> <br/>\n",
       "<a href=\"https://pythonstart.github.io/web/09.html\" target=\"_blank\"> 09. 여러개의 이미지 다운로드 </a> <br/>\n",
       "<a href=\"./10.html\" id=\"rank\" target=\"_blank\"> 10. 랭킹 정보 가져오기(웹 크롤링) </a> <br/>\n",
       "</ul>\n",
       "</body></html>"
      ]
     },
     "execution_count": 26,
     "metadata": {},
     "output_type": "execute_result"
    }
   ],
   "source": [
    "## 주어진 페이지 구조화\n",
    "soup = BeautifulSoup(driver.page_source, 'lxml')\n",
    "soup"
   ]
  },
  {
   "cell_type": "code",
   "execution_count": 27,
   "id": "af86a35a",
   "metadata": {},
   "outputs": [
    {
     "data": {
      "text/plain": [
       "[<ul>\n",
       " <a href=\"./01.html\" name=\"link_get\" target=\"_blank\"> 01. 제목 가져오기(title) </a> <br/>\n",
       " <a href=\"./02.html\" name=\"text_get\" target=\"_blank\"> 02. 텍스트 가져오기(p) </a> <br/>\n",
       " <a href=\"./03.html\" name=\"link_get\" target=\"_blank\"> 03. 링크 가져오기(a) </a> <br/>\n",
       " <a href=\"https://pythonstart.github.io/web/04.html\" target=\"_blank\"> 04. 이미지 정보 가져오기(img) </a> <br/>\n",
       " <a href=\"./05.html\" target=\"_blank\"> 05. 리스트 정보 가져오기(ul,ol) </a> <br/>\n",
       " <a href=\"./06.html\" target=\"_blank\"> 06. id를 활용한 정보 획득 </a> <br/>\n",
       " <a href=\"./07.html\" target=\"_blank\"> 07. class를 활용한 정보 획득 </a> <br/>\n",
       " <a href=\"./08.html\" target=\"_blank\"> 08. 하나의 이미지 다운로드 </a> <br/>\n",
       " <a href=\"https://pythonstart.github.io/web/09.html\" target=\"_blank\"> 09. 여러개의 이미지 다운로드 </a> <br/>\n",
       " <a href=\"./10.html\" id=\"rank\" target=\"_blank\"> 10. 랭킹 정보 가져오기(웹 크롤링) </a> <br/>\n",
       " </ul>]"
      ]
     },
     "execution_count": 27,
     "metadata": {},
     "output_type": "execute_result"
    }
   ],
   "source": [
    "soup.select(\"ul\")"
   ]
  },
  {
   "cell_type": "code",
   "execution_count": 28,
   "id": "fce93ab6",
   "metadata": {},
   "outputs": [
    {
     "data": {
      "text/plain": [
       "[<a href=\"./10.html\" id=\"rank\" target=\"_blank\"> 10. 랭킹 정보 가져오기(웹 크롤링) </a>]"
      ]
     },
     "execution_count": 28,
     "metadata": {},
     "output_type": "execute_result"
    }
   ],
   "source": [
    "soup.select('#rank')"
   ]
  },
  {
   "cell_type": "code",
   "execution_count": 57,
   "id": "1ec84ab5",
   "metadata": {},
   "outputs": [],
   "source": [
    "driver.get(\"https://pythonstart.github.io/web/07.html\")"
   ]
  },
  {
   "cell_type": "code",
   "execution_count": 58,
   "id": "90697405",
   "metadata": {},
   "outputs": [],
   "source": [
    "## 주어진 페이지 구조화\n",
    "soup = BeautifulSoup(driver.page_source, 'lxml')\n",
    "soup.title"
   ]
  },
  {
   "cell_type": "code",
   "execution_count": 59,
   "id": "38400e72",
   "metadata": {},
   "outputs": [
    {
     "data": {
      "text/plain": [
       "[<div class=\"word\">\n",
       " 오늘의 인기 키워드\n",
       " <ul>\n",
       " <li class=\"kw\">냉면</li>\n",
       " <li class=\"kw\">감자</li>\n",
       " <li class=\"kw\">오늘의 영화</li>\n",
       " <li class=\"kw\">할수있어</li>\n",
       " </ul>\n",
       " </div>]"
      ]
     },
     "execution_count": 59,
     "metadata": {},
     "output_type": "execute_result"
    }
   ],
   "source": [
    "soup.select(\"div.word\")"
   ]
  },
  {
   "cell_type": "code",
   "execution_count": 60,
   "id": "46cdfae9",
   "metadata": {},
   "outputs": [
    {
     "name": "stdout",
     "output_type": "stream",
     "text": [
      "냉면\n",
      "감자\n",
      "오늘의 영화\n",
      "할수있어\n"
     ]
    }
   ],
   "source": [
    "a = soup.select('ul li.kw')\n",
    "for i in a:\n",
    "    print(i.text)"
   ]
  },
  {
   "cell_type": "code",
   "execution_count": 61,
   "id": "2d66cf04",
   "metadata": {},
   "outputs": [
    {
     "data": {
      "text/plain": [
       "<html><head>\n",
       "<title>나의 웹 페이지</title>\n",
       "</head>\n",
       "<body>\n",
       "<h1> my web page </h1>\n",
       "<ul>\n",
       "<a href=\"./01.html\" name=\"link_get\" target=\"_blank\"> 01. 제목 가져오기(title) </a> <br/>\n",
       "<a href=\"./02.html\" name=\"text_get\" target=\"_blank\"> 02. 텍스트 가져오기(p) </a> <br/>\n",
       "<a href=\"./03.html\" name=\"link_get\" target=\"_blank\"> 03. 링크 가져오기(a) </a> <br/>\n",
       "<a href=\"https://pythonstart.github.io/web/04.html\" target=\"_blank\"> 04. 이미지 정보 가져오기(img) </a> <br/>\n",
       "<a href=\"./05.html\" target=\"_blank\"> 05. 리스트 정보 가져오기(ul,ol) </a> <br/>\n",
       "<a href=\"./06.html\" target=\"_blank\"> 06. id를 활용한 정보 획득 </a> <br/>\n",
       "<a href=\"./07.html\" target=\"_blank\"> 07. class를 활용한 정보 획득 </a> <br/>\n",
       "<a href=\"./08.html\" target=\"_blank\"> 08. 하나의 이미지 다운로드 </a> <br/>\n",
       "<a href=\"https://pythonstart.github.io/web/09.html\" target=\"_blank\"> 09. 여러개의 이미지 다운로드 </a> <br/>\n",
       "<a href=\"./10.html\" id=\"rank\" target=\"_blank\"> 10. 랭킹 정보 가져오기(웹 크롤링) </a> <br/>\n",
       "</ul>\n",
       "</body></html>"
      ]
     },
     "execution_count": 61,
     "metadata": {},
     "output_type": "execute_result"
    }
   ],
   "source": [
    "driver.get('https://pythonstart.github.io/web/')\n",
    "soup = BeautifulSoup(driver.page_source, 'lxml')\n",
    "soup"
   ]
  },
  {
   "cell_type": "code",
   "execution_count": 65,
   "id": "8beb743f",
   "metadata": {},
   "outputs": [],
   "source": [
    "# https://pythonstart.github.io/web/의 10개의 링크에 대한 웹의 url을 selenium을 이용해서 가져오기 - 댓글 달기\n",
    "\n",
    "get_link = driver.find_element_by_link_text('a')\n",
    "for i in get_link:\n",
    "    print(i)"
   ]
  },
  {
   "cell_type": "code",
   "execution_count": null,
   "id": "e20830f8",
   "metadata": {},
   "outputs": [],
   "source": [
    "#추가) for문을 이용해서 각 URL을 방문하면서 해당 페이지를 title을 리스트화 시키기 - (댓글)"
   ]
  }
 ],
 "metadata": {
  "kernelspec": {
   "display_name": "Python 3",
   "language": "python",
   "name": "python3"
  },
  "language_info": {
   "codemirror_mode": {
    "name": "ipython",
    "version": 3
   },
   "file_extension": ".py",
   "mimetype": "text/x-python",
   "name": "python",
   "nbconvert_exporter": "python",
   "pygments_lexer": "ipython3",
   "version": "3.8.8"
  },
  "varInspector": {
   "cols": {
    "lenName": 16,
    "lenType": 16,
    "lenVar": 40
   },
   "kernels_config": {
    "python": {
     "delete_cmd_postfix": "",
     "delete_cmd_prefix": "del ",
     "library": "var_list.py",
     "varRefreshCmd": "print(var_dic_list())"
    },
    "r": {
     "delete_cmd_postfix": ") ",
     "delete_cmd_prefix": "rm(",
     "library": "var_list.r",
     "varRefreshCmd": "cat(var_dic_list()) "
    }
   },
   "types_to_exclude": [
    "module",
    "function",
    "builtin_function_or_method",
    "instance",
    "_Feature"
   ],
   "window_display": false
  }
 },
 "nbformat": 4,
 "nbformat_minor": 5
}
