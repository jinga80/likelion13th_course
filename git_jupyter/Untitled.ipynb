{
 "cells": [
  {
   "cell_type": "code",
   "execution_count": 25,
   "id": "8d4cdb56",
   "metadata": {},
   "outputs": [],
   "source": [
    "from selenium import webdriver\n",
    "from bs4 import BeautifulSoup as bs\n",
    "from selenium.webdriver.common.keys import Keys\n",
    "import pandas as pd\n",
    "import time"
   ]
  },
  {
   "cell_type": "code",
   "execution_count": 5,
   "id": "2113cea0",
   "metadata": {},
   "outputs": [],
   "source": [
    "url = 'https://www.amazon.com/'\n",
    "start = time.time()\n",
    "chrome_path = r'/opt/homebrew/bin/chromedriver'\n",
    "driver = webdriver.Chrome(executable_path=chrome_path)\n",
    "driver.get(url)"
   ]
  },
  {
   "cell_type": "code",
   "execution_count": 6,
   "id": "578f11a1",
   "metadata": {},
   "outputs": [],
   "source": [
    "#검색창 요소\n",
    "sel_input = driver.find_element_by_xpath('//*[@id=\"twotabsearchtextbox\"]')\n",
    "#검색버튼 요소\n",
    "sel_search = driver.find_element_by_xpath('/html/body/div[1]/header/div/div[1]/div[2]/div/form/div[3]/div/span/input')"
   ]
  },
  {
   "cell_type": "code",
   "execution_count": 7,
   "id": "3d8f1a04",
   "metadata": {},
   "outputs": [],
   "source": [
    "#검색창에 값 입력\n",
    "word = \"computer\"\n",
    "sel_input.clear()\n",
    "sel_input.send_keys(word)"
   ]
  },
  {
   "cell_type": "code",
   "execution_count": 9,
   "id": "75548331",
   "metadata": {},
   "outputs": [],
   "source": [
    "sel_search.click()"
   ]
  },
  {
   "cell_type": "code",
   "execution_count": 10,
   "id": "5fe03c7c",
   "metadata": {},
   "outputs": [
    {
     "data": {
      "text/plain": [
       "<title>Amazon.com : computer</title>"
      ]
     },
     "execution_count": 10,
     "metadata": {},
     "output_type": "execute_result"
    }
   ],
   "source": [
    "page = driver.page_source\n",
    "soup = bs(page, 'lxml')\n",
    "soup.title"
   ]
  },
  {
   "cell_type": "code",
   "execution_count": 11,
   "id": "9f674668",
   "metadata": {},
   "outputs": [
    {
     "data": {
      "text/plain": [
       "'https://www.amazon.com/s?k=computer&ref=nb_sb_noss_2'"
      ]
     },
     "execution_count": 11,
     "metadata": {},
     "output_type": "execute_result"
    }
   ],
   "source": [
    "current_url = driver.current_url\n",
    "current_url"
   ]
  },
  {
   "cell_type": "code",
   "execution_count": 12,
   "id": "252b25d1",
   "metadata": {},
   "outputs": [
    {
     "name": "stdout",
     "output_type": "stream",
     "text": [
      "<h2 class=\"a-size-mini a-spacing-none a-color-base s-line-clamp-2\"><a class=\"a-link-normal a-text-normal\" href=\"/gp/slredirect/picassoRedirect.html/ref=pa_sp_atf_aps_sr_pg1_1?ie=UTF8&amp;adId=A102119634M6AL5819FOI&amp;url=%2FXINYANGCH-15-6-inch-ultra-thin-high-performance-quad-core%2Fdp%2FB08JKCHTZP%2Fref%3Dsr_1_1_sspa%3Fdchild%3D1%26keywords%3Dcomputer%26qid%3D1631254044%26sr%3D8-1-spons%26psc%3D1&amp;qualifier=1631254044&amp;id=2761473575272748&amp;widgetName=sp_atf\"><span class=\"a-size-medium a-color-base a-text-normal\">XINYANGCH 2020 15.6-inch ultra-thin laptop 8G + 128G Intel Celeron J3455 high-performance quad-core CPU, buttons with backlight, WiFi Internet access, HDMI, Bluetooth 4.0, Windows 10 (silver 8G + 128G</span> </a> </h2>\n",
      "XINYANGCH 2020 15.6-inch ultra-thin laptop 8G + 128G Intel Celeron J3455 high-performance quad-core CPU, buttons with backlight, WiFi Internet access, HDMI, Bluetooth 4.0, Windows 10 (silver 8G + 128G\n",
      "\n",
      "/gp/slredirect/picassoRedirect.html/ref=pa_sp_atf_aps_sr_pg1_1?ie=UTF8&adId=A102119634M6AL5819FOI&url=%2FXINYANGCH-15-6-inch-ultra-thin-high-performance-quad-core%2Fdp%2FB08JKCHTZP%2Fref%3Dsr_1_1_sspa%3Fdchild%3D1%26keywords%3Dcomputer%26qid%3D1631254044%26sr%3D8-1-spons%26psc%3D1&qualifier=1631254044&id=2761473575272748&widgetName=sp_atf\n"
     ]
    }
   ],
   "source": [
    "tmp = soup.find_all('h2', class_='a-size-mini a-spacing-none a-color-base s-line-clamp-2')[0]\n",
    "print(tmp)\n",
    "print(tmp.span.text)\n",
    "print()\n",
    "print(tmp.a.attrs['href'])"
   ]
  },
  {
   "cell_type": "code",
   "execution_count": 13,
   "id": "bb884c34",
   "metadata": {},
   "outputs": [
    {
     "data": {
      "text/plain": [
       "'https://www.amazon.com/s?k=computer&ref=nb_sb_noss_2/gp/slredirect/picassoRedirect.html/ref=pa_sp_atf_aps_sr_pg1_1?ie=UTF8&adId=A102119634M6AL5819FOI&url=%2FXINYANGCH-15-6-inch-ultra-thin-high-performance-quad-core%2Fdp%2FB08JKCHTZP%2Fref%3Dsr_1_1_sspa%3Fdchild%3D1%26keywords%3Dcomputer%26qid%3D1631254044%26sr%3D8-1-spons%26psc%3D1&qualifier=1631254044&id=2761473575272748&widgetName=sp_atf'"
      ]
     },
     "execution_count": 13,
     "metadata": {},
     "output_type": "execute_result"
    }
   ],
   "source": [
    "# 전체 URL을 얻는다.\n",
    "current_url + tmp.a.attrs['href']"
   ]
  },
  {
   "cell_type": "code",
   "execution_count": 14,
   "id": "073bc365",
   "metadata": {},
   "outputs": [],
   "source": [
    "#아마존 리뷰 가져오기"
   ]
  },
  {
   "cell_type": "code",
   "execution_count": 15,
   "id": "668487dc",
   "metadata": {},
   "outputs": [],
   "source": [
    "url = 'https://www.amazon.com/HP-24-inch-Computer-Processor-24-dd0010/dp/B0849GZCQR/ref=sr_1_2?dchild=1&keywords=computer&qid=1631254252&sr=8-2'\n",
    "driver.get(url)"
   ]
  },
  {
   "cell_type": "code",
   "execution_count": 16,
   "id": "a473cd03",
   "metadata": {},
   "outputs": [],
   "source": [
    "### 첫번째 리뷰 버튼 : //*[@id=\"acrCustomerReviewText\"]\n",
    "first_review = driver.find_element_by_xpath('//*[@id=\"acrCustomerReviewText\"]')\n",
    "first_review.click()"
   ]
  },
  {
   "cell_type": "code",
   "execution_count": 17,
   "id": "47aa7172",
   "metadata": {},
   "outputs": [],
   "source": [
    "##두번째 리뷰 선택 : //*[@id=\"reviews-medley-footer\"]/div[2]/a\n",
    "second_review = driver.find_element_by_xpath('//*[@id=\"reviews-medley-footer\"]/div[2]/a')\n",
    "second_review.click()"
   ]
  },
  {
   "cell_type": "code",
   "execution_count": 19,
   "id": "8774a18b",
   "metadata": {},
   "outputs": [],
   "source": [
    "# 페이지 정보를 넘겨받고, 하나의 리뷰를 가져오기"
   ]
  },
  {
   "cell_type": "code",
   "execution_count": 20,
   "id": "a6c502cb",
   "metadata": {},
   "outputs": [
    {
     "data": {
      "text/plain": [
       "<title>Amazon.com: Customer reviews: HP 24-inch All-in-One Desktop Computer, AMD Athlon Silver 3050U Processor, 8 GB RAM, 256 GB SSD, Windows 10 Home (24-dd0010, White)</title>"
      ]
     },
     "execution_count": 20,
     "metadata": {},
     "output_type": "execute_result"
    }
   ],
   "source": [
    "page = driver.page_source #하나의 페이지 정보 전달\n",
    "soup = bs(page, 'lxml')\n",
    "soup.title"
   ]
  },
  {
   "cell_type": "code",
   "execution_count": 22,
   "id": "e4d0bdd6",
   "metadata": {},
   "outputs": [
    {
     "data": {
      "text/plain": [
       "\"This is the worst computer that I've ever owned , I have high speed internet and nothing has ben uploaded in this computer and it's so slow that it's just shy of me taking a hammer to it,this computer took me back to dialup that's how slow it is. I bought it for my business that I open on Oct. 15th and really dont think it's going to work out wish I could return it\""
      ]
     },
     "execution_count": 22,
     "metadata": {},
     "output_type": "execute_result"
    }
   ],
   "source": [
    "#하나의 정보 확인\n",
    "txt = soup.find_all(\"span\", class_=\"a-size-base review-text review-text-content\")\n",
    "txt[0].text.strip()"
   ]
  },
  {
   "cell_type": "code",
   "execution_count": 24,
   "id": "287d9e31",
   "metadata": {},
   "outputs": [
    {
     "data": {
      "text/plain": [
       "[\"This is the worst computer that I've ever owned , I have high speed internet and nothing has ben uploaded in this computer and it's so slow that it's just shy of me taking a hammer to it,this computer took me back to dialup that's how slow it is. I bought it for my business that I open on Oct. 15th and really dont think it's going to work out wish I could return it\",\n",
       " 'I am very happy with the design of the computer. It is thin and looks great. The 24\" screen is bright and has a good resolution. I find the speed to be adequate as well. The set up was easy, and I was able to get it set up the way I wanted almost immediately. It was much quicker than I thought it would be.  If I had a complaint it would be that the DVD drawer on the side seems to be a little flimsy. I feel like I have to be extra careful with it. I like the keyboard but not the mouse. Probably just a personal preference. Otherwise, I am very happy with my purchase.',\n",
       " 'I honestly am just going to be up front. With Covid, we we employees at my job were all sent home to work and I bought this sweet desk. Well we\\'ve since (just managers) have been brought back to the site. I have a laptop and perfectly capable s20 ultra. But I felt depressed with this desk I pimped out with led lights and cool pics of all of my family. So thats why I got this. <<wrote all this and now 6 short months later I don\\'t even use it. It\\'s slow, loud, cheaply made. The specs seemed to be that of meeting my needs. I can\\'t even play YouTube vids past 1080p. My 3 year old laptop xps is way more on point. I ended up buying a 34\" ultrawide curved monitor and have the laptop hidden behind that which is such a better option. I\\'m trying to give this thing away. Its just not what its cut out to be. :( first pic there it sits next to my old dual monitors (work from home). And second pic is what I now use. Third pic. Buy a nice monitor and a small but good laptop and boom.',\n",
       " 'Very slow to boot up.Too much bloatware to uninstalled.',\n",
       " 'My wife and I use a computer like old people so this computer is perfect for us. We have also found that HP is a great brand when it comes to computers and printers. Our 300.00 laptop we bought 5 years ago still works great too. If you are looking for a good basic desk top that does not take up a lot space and works like a charm then this will work great for you.',\n",
       " 'This is a great computer (has been the last three weeks). I am a young, impatient, business owner and was fully expecting to return this if it showed and signs of sluggishness, I realized I didn’t spend much on it but figured I would try it out. I don’t do gaming or anything but the picture quality is nice and it is fast to do anything a computer should be fast at, the extent of what I do is load large architectural drawings and this does a pretty good job there!It looks nice and modern on my desk, speakers are good I think but I use a Bluetooth either way.I bought my own wireless keyboard and mouse prior to receiving it and after doing some research.If you’re not creating video content or gaming, this is an amazing computer for general use and I definitely suggest it!',\n",
       " 'Love how clean and tucked away everything is.  Love the big screen and it’s great for watching Ghost Adventures on Hulu! 😁',\n",
       " \"I like the all in one feature on this. The last 3 laptops I had all had issues with the opening and closing, the wires got crossed or the plastic hinges fell apart and it just wouldn't work any longer. So I love this one. Of course I can't take it with me when I go somewhere, but I have a tablet and can use that when I'm on the go. The screen on this is amazing, the speed is good and it has a large memory. I'm loving it so far.\",\n",
       " 'I love this computer. I use it mostly for completing school work but sometimes play games. The only thing I don’t like is that there is a loud buzzing sound when it’s been running for a while. I’m assuming it’s the fan inside. Otherwise everything works great.',\n",
       " \"This was an impressive computer in all respects, except 3 months after delivery it went dead.  Unresponsive to its power button, mouse or keyboard and automatic repair.  No way to get into it to even return to factory defaults and HP would not assist me in taking out the hard drive.  I did get Amazon's guarantee they would wipe the hard drive when it was returned.  I liked this model so much I bought another one, but from another vendor because Amazon was out of stock.\"]"
      ]
     },
     "execution_count": 24,
     "metadata": {},
     "output_type": "execute_result"
    }
   ],
   "source": [
    "all_r = soup.find_all(\"span\", class_=\"a-size-base review-text review-text-content\")\n",
    "all_review = []\n",
    "for one in all_r:\n",
    "    tmp = one.text\n",
    "    review = tmp.strip()\n",
    "    all_review.append(review)\n",
    "all_review"
   ]
  },
  {
   "cell_type": "code",
   "execution_count": 26,
   "id": "e473d62f",
   "metadata": {},
   "outputs": [
    {
     "data": {
      "text/html": [
       "<div>\n",
       "<style scoped>\n",
       "    .dataframe tbody tr th:only-of-type {\n",
       "        vertical-align: middle;\n",
       "    }\n",
       "\n",
       "    .dataframe tbody tr th {\n",
       "        vertical-align: top;\n",
       "    }\n",
       "\n",
       "    .dataframe thead th {\n",
       "        text-align: right;\n",
       "    }\n",
       "</style>\n",
       "<table border=\"1\" class=\"dataframe\">\n",
       "  <thead>\n",
       "    <tr style=\"text-align: right;\">\n",
       "      <th></th>\n",
       "      <th>review</th>\n",
       "    </tr>\n",
       "  </thead>\n",
       "  <tbody>\n",
       "    <tr>\n",
       "      <th>0</th>\n",
       "      <td>This is the worst computer that I've ever owne...</td>\n",
       "    </tr>\n",
       "    <tr>\n",
       "      <th>1</th>\n",
       "      <td>I am very happy with the design of the compute...</td>\n",
       "    </tr>\n",
       "    <tr>\n",
       "      <th>2</th>\n",
       "      <td>I honestly am just going to be up front. With ...</td>\n",
       "    </tr>\n",
       "    <tr>\n",
       "      <th>3</th>\n",
       "      <td>Very slow to boot up.Too much bloatware to uni...</td>\n",
       "    </tr>\n",
       "    <tr>\n",
       "      <th>4</th>\n",
       "      <td>My wife and I use a computer like old people s...</td>\n",
       "    </tr>\n",
       "    <tr>\n",
       "      <th>5</th>\n",
       "      <td>This is a great computer (has been the last th...</td>\n",
       "    </tr>\n",
       "    <tr>\n",
       "      <th>6</th>\n",
       "      <td>Love how clean and tucked away everything is. ...</td>\n",
       "    </tr>\n",
       "    <tr>\n",
       "      <th>7</th>\n",
       "      <td>I like the all in one feature on this. The las...</td>\n",
       "    </tr>\n",
       "    <tr>\n",
       "      <th>8</th>\n",
       "      <td>I love this computer. I use it mostly for comp...</td>\n",
       "    </tr>\n",
       "    <tr>\n",
       "      <th>9</th>\n",
       "      <td>This was an impressive computer in all respect...</td>\n",
       "    </tr>\n",
       "  </tbody>\n",
       "</table>\n",
       "</div>"
      ],
      "text/plain": [
       "                                              review\n",
       "0  This is the worst computer that I've ever owne...\n",
       "1  I am very happy with the design of the compute...\n",
       "2  I honestly am just going to be up front. With ...\n",
       "3  Very slow to boot up.Too much bloatware to uni...\n",
       "4  My wife and I use a computer like old people s...\n",
       "5  This is a great computer (has been the last th...\n",
       "6  Love how clean and tucked away everything is. ...\n",
       "7  I like the all in one feature on this. The las...\n",
       "8  I love this computer. I use it mostly for comp...\n",
       "9  This was an impressive computer in all respect..."
      ]
     },
     "execution_count": 26,
     "metadata": {},
     "output_type": "execute_result"
    }
   ],
   "source": [
    "dat_r = {'review' : all_review}\n",
    "dat = pd.DataFrame(dat_r)\n",
    "dat"
   ]
  },
  {
   "cell_type": "code",
   "execution_count": 27,
   "id": "6718baaf",
   "metadata": {},
   "outputs": [],
   "source": [
    "dat.to_csv(\"review.csv, index=False\")"
   ]
  },
  {
   "cell_type": "code",
   "execution_count": 30,
   "id": "66af888c",
   "metadata": {},
   "outputs": [],
   "source": [
    "#다음페이지 버튼 클릭 : //*[@id=\"cm_cr-pagination_bar\"]/ul/li[2]/a\n",
    "next_btn = driver.find_element_by_xpath('//*[@id=\"cm_cr-pagination_bar\"]/ul/li[2]/a')\n",
    "next_btn.click()"
   ]
  },
  {
   "cell_type": "code",
   "execution_count": 33,
   "id": "d7efe556",
   "metadata": {},
   "outputs": [
    {
     "data": {
      "text/plain": [
       "[\"This is the worst computer that I've ever owned , I have high speed internet and nothing has ben uploaded in this computer and it's so slow that it's just shy of me taking a hammer to it,this computer took me back to dialup that's how slow it is. I bought it for my business that I open on Oct. 15th and really dont think it's going to work out wish I could return it\",\n",
       " 'I am very happy with the design of the computer. It is thin and looks great. The 24\" screen is bright and has a good resolution. I find the speed to be adequate as well. The set up was easy, and I was able to get it set up the way I wanted almost immediately. It was much quicker than I thought it would be.  If I had a complaint it would be that the DVD drawer on the side seems to be a little flimsy. I feel like I have to be extra careful with it. I like the keyboard but not the mouse. Probably just a personal preference. Otherwise, I am very happy with my purchase.',\n",
       " 'I honestly am just going to be up front. With Covid, we we employees at my job were all sent home to work and I bought this sweet desk. Well we\\'ve since (just managers) have been brought back to the site. I have a laptop and perfectly capable s20 ultra. But I felt depressed with this desk I pimped out with led lights and cool pics of all of my family. So thats why I got this. <<wrote all this and now 6 short months later I don\\'t even use it. It\\'s slow, loud, cheaply made. The specs seemed to be that of meeting my needs. I can\\'t even play YouTube vids past 1080p. My 3 year old laptop xps is way more on point. I ended up buying a 34\" ultrawide curved monitor and have the laptop hidden behind that which is such a better option. I\\'m trying to give this thing away. Its just not what its cut out to be. :( first pic there it sits next to my old dual monitors (work from home). And second pic is what I now use. Third pic. Buy a nice monitor and a small but good laptop and boom.',\n",
       " 'Very slow to boot up.Too much bloatware to uninstalled.',\n",
       " 'My wife and I use a computer like old people so this computer is perfect for us. We have also found that HP is a great brand when it comes to computers and printers. Our 300.00 laptop we bought 5 years ago still works great too. If you are looking for a good basic desk top that does not take up a lot space and works like a charm then this will work great for you.',\n",
       " 'This is a great computer (has been the last three weeks). I am a young, impatient, business owner and was fully expecting to return this if it showed and signs of sluggishness, I realized I didn’t spend much on it but figured I would try it out. I don’t do gaming or anything but the picture quality is nice and it is fast to do anything a computer should be fast at, the extent of what I do is load large architectural drawings and this does a pretty good job there!It looks nice and modern on my desk, speakers are good I think but I use a Bluetooth either way.I bought my own wireless keyboard and mouse prior to receiving it and after doing some research.If you’re not creating video content or gaming, this is an amazing computer for general use and I definitely suggest it!',\n",
       " 'Love how clean and tucked away everything is.  Love the big screen and it’s great for watching Ghost Adventures on Hulu! 😁',\n",
       " \"I like the all in one feature on this. The last 3 laptops I had all had issues with the opening and closing, the wires got crossed or the plastic hinges fell apart and it just wouldn't work any longer. So I love this one. Of course I can't take it with me when I go somewhere, but I have a tablet and can use that when I'm on the go. The screen on this is amazing, the speed is good and it has a large memory. I'm loving it so far.\",\n",
       " 'I love this computer. I use it mostly for completing school work but sometimes play games. The only thing I don’t like is that there is a loud buzzing sound when it’s been running for a while. I’m assuming it’s the fan inside. Otherwise everything works great.',\n",
       " \"This was an impressive computer in all respects, except 3 months after delivery it went dead.  Unresponsive to its power button, mouse or keyboard and automatic repair.  No way to get into it to even return to factory defaults and HP would not assist me in taking out the hard drive.  I did get Amazon's guarantee they would wipe the hard drive when it was returned.  I liked this model so much I bought another one, but from another vendor because Amazon was out of stock.\",\n",
       " \"This is the worst computer that I've ever owned , I have high speed internet and nothing has ben uploaded in this computer and it's so slow that it's just shy of me taking a hammer to it,this computer took me back to dialup that's how slow it is. I bought it for my business that I open on Oct. 15th and really dont think it's going to work out wish I could return it\",\n",
       " 'I am very happy with the design of the computer. It is thin and looks great. The 24\" screen is bright and has a good resolution. I find the speed to be adequate as well. The set up was easy, and I was able to get it set up the way I wanted almost immediately. It was much quicker than I thought it would be.  If I had a complaint it would be that the DVD drawer on the side seems to be a little flimsy. I feel like I have to be extra careful with it. I like the keyboard but not the mouse. Probably just a personal preference. Otherwise, I am very happy with my purchase.',\n",
       " 'I honestly am just going to be up front. With Covid, we we employees at my job were all sent home to work and I bought this sweet desk. Well we\\'ve since (just managers) have been brought back to the site. I have a laptop and perfectly capable s20 ultra. But I felt depressed with this desk I pimped out with led lights and cool pics of all of my family. So thats why I got this. <<wrote all this and now 6 short months later I don\\'t even use it. It\\'s slow, loud, cheaply made. The specs seemed to be that of meeting my needs. I can\\'t even play YouTube vids past 1080p. My 3 year old laptop xps is way more on point. I ended up buying a 34\" ultrawide curved monitor and have the laptop hidden behind that which is such a better option. I\\'m trying to give this thing away. Its just not what its cut out to be. :( first pic there it sits next to my old dual monitors (work from home). And second pic is what I now use. Third pic. Buy a nice monitor and a small but good laptop and boom.',\n",
       " 'Very slow to boot up.Too much bloatware to uninstalled.',\n",
       " 'My wife and I use a computer like old people so this computer is perfect for us. We have also found that HP is a great brand when it comes to computers and printers. Our 300.00 laptop we bought 5 years ago still works great too. If you are looking for a good basic desk top that does not take up a lot space and works like a charm then this will work great for you.',\n",
       " 'This is a great computer (has been the last three weeks). I am a young, impatient, business owner and was fully expecting to return this if it showed and signs of sluggishness, I realized I didn’t spend much on it but figured I would try it out. I don’t do gaming or anything but the picture quality is nice and it is fast to do anything a computer should be fast at, the extent of what I do is load large architectural drawings and this does a pretty good job there!It looks nice and modern on my desk, speakers are good I think but I use a Bluetooth either way.I bought my own wireless keyboard and mouse prior to receiving it and after doing some research.If you’re not creating video content or gaming, this is an amazing computer for general use and I definitely suggest it!',\n",
       " 'Love how clean and tucked away everything is.  Love the big screen and it’s great for watching Ghost Adventures on Hulu! 😁',\n",
       " \"I like the all in one feature on this. The last 3 laptops I had all had issues with the opening and closing, the wires got crossed or the plastic hinges fell apart and it just wouldn't work any longer. So I love this one. Of course I can't take it with me when I go somewhere, but I have a tablet and can use that when I'm on the go. The screen on this is amazing, the speed is good and it has a large memory. I'm loving it so far.\",\n",
       " 'I love this computer. I use it mostly for completing school work but sometimes play games. The only thing I don’t like is that there is a loud buzzing sound when it’s been running for a while. I’m assuming it’s the fan inside. Otherwise everything works great.',\n",
       " \"This was an impressive computer in all respects, except 3 months after delivery it went dead.  Unresponsive to its power button, mouse or keyboard and automatic repair.  No way to get into it to even return to factory defaults and HP would not assist me in taking out the hard drive.  I did get Amazon's guarantee they would wipe the hard drive when it was returned.  I liked this model so much I bought another one, but from another vendor because Amazon was out of stock.\",\n",
       " \"This is the worst computer that I've ever owned , I have high speed internet and nothing has ben uploaded in this computer and it's so slow that it's just shy of me taking a hammer to it,this computer took me back to dialup that's how slow it is. I bought it for my business that I open on Oct. 15th and really dont think it's going to work out wish I could return it\",\n",
       " 'I am very happy with the design of the computer. It is thin and looks great. The 24\" screen is bright and has a good resolution. I find the speed to be adequate as well. The set up was easy, and I was able to get it set up the way I wanted almost immediately. It was much quicker than I thought it would be.  If I had a complaint it would be that the DVD drawer on the side seems to be a little flimsy. I feel like I have to be extra careful with it. I like the keyboard but not the mouse. Probably just a personal preference. Otherwise, I am very happy with my purchase.',\n",
       " 'I honestly am just going to be up front. With Covid, we we employees at my job were all sent home to work and I bought this sweet desk. Well we\\'ve since (just managers) have been brought back to the site. I have a laptop and perfectly capable s20 ultra. But I felt depressed with this desk I pimped out with led lights and cool pics of all of my family. So thats why I got this. <<wrote all this and now 6 short months later I don\\'t even use it. It\\'s slow, loud, cheaply made. The specs seemed to be that of meeting my needs. I can\\'t even play YouTube vids past 1080p. My 3 year old laptop xps is way more on point. I ended up buying a 34\" ultrawide curved monitor and have the laptop hidden behind that which is such a better option. I\\'m trying to give this thing away. Its just not what its cut out to be. :( first pic there it sits next to my old dual monitors (work from home). And second pic is what I now use. Third pic. Buy a nice monitor and a small but good laptop and boom.',\n",
       " 'Very slow to boot up.Too much bloatware to uninstalled.',\n",
       " 'My wife and I use a computer like old people so this computer is perfect for us. We have also found that HP is a great brand when it comes to computers and printers. Our 300.00 laptop we bought 5 years ago still works great too. If you are looking for a good basic desk top that does not take up a lot space and works like a charm then this will work great for you.',\n",
       " 'This is a great computer (has been the last three weeks). I am a young, impatient, business owner and was fully expecting to return this if it showed and signs of sluggishness, I realized I didn’t spend much on it but figured I would try it out. I don’t do gaming or anything but the picture quality is nice and it is fast to do anything a computer should be fast at, the extent of what I do is load large architectural drawings and this does a pretty good job there!It looks nice and modern on my desk, speakers are good I think but I use a Bluetooth either way.I bought my own wireless keyboard and mouse prior to receiving it and after doing some research.If you’re not creating video content or gaming, this is an amazing computer for general use and I definitely suggest it!',\n",
       " 'Love how clean and tucked away everything is.  Love the big screen and it’s great for watching Ghost Adventures on Hulu! 😁',\n",
       " \"I like the all in one feature on this. The last 3 laptops I had all had issues with the opening and closing, the wires got crossed or the plastic hinges fell apart and it just wouldn't work any longer. So I love this one. Of course I can't take it with me when I go somewhere, but I have a tablet and can use that when I'm on the go. The screen on this is amazing, the speed is good and it has a large memory. I'm loving it so far.\",\n",
       " 'I love this computer. I use it mostly for completing school work but sometimes play games. The only thing I don’t like is that there is a loud buzzing sound when it’s been running for a while. I’m assuming it’s the fan inside. Otherwise everything works great.',\n",
       " \"This was an impressive computer in all respects, except 3 months after delivery it went dead.  Unresponsive to its power button, mouse or keyboard and automatic repair.  No way to get into it to even return to factory defaults and HP would not assist me in taking out the hard drive.  I did get Amazon's guarantee they would wipe the hard drive when it was returned.  I liked this model so much I bought another one, but from another vendor because Amazon was out of stock.\"]"
      ]
     },
     "execution_count": 33,
     "metadata": {},
     "output_type": "execute_result"
    }
   ],
   "source": [
    "all_r = soup.find_all(\"span\", class_=\"a-size-base review-text review-text-content\")\n",
    "# all_review = []\n",
    "for one in all_r:\n",
    "    tmp = one.text\n",
    "    review = tmp.strip()\n",
    "    all_review.append(review)\n",
    "all_review"
   ]
  },
  {
   "cell_type": "code",
   "execution_count": null,
   "id": "7859108a",
   "metadata": {},
   "outputs": [],
   "source": []
  }
 ],
 "metadata": {
  "kernelspec": {
   "display_name": "Python 3",
   "language": "python",
   "name": "python3"
  },
  "language_info": {
   "codemirror_mode": {
    "name": "ipython",
    "version": 3
   },
   "file_extension": ".py",
   "mimetype": "text/x-python",
   "name": "python",
   "nbconvert_exporter": "python",
   "pygments_lexer": "ipython3",
   "version": "3.8.8"
  },
  "varInspector": {
   "cols": {
    "lenName": 16,
    "lenType": 16,
    "lenVar": 40
   },
   "kernels_config": {
    "python": {
     "delete_cmd_postfix": "",
     "delete_cmd_prefix": "del ",
     "library": "var_list.py",
     "varRefreshCmd": "print(var_dic_list())"
    },
    "r": {
     "delete_cmd_postfix": ") ",
     "delete_cmd_prefix": "rm(",
     "library": "var_list.r",
     "varRefreshCmd": "cat(var_dic_list()) "
    }
   },
   "types_to_exclude": [
    "module",
    "function",
    "builtin_function_or_method",
    "instance",
    "_Feature"
   ],
   "window_display": false
  }
 },
 "nbformat": 4,
 "nbformat_minor": 5
}
