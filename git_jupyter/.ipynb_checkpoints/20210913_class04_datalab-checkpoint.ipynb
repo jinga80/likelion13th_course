{
 "cells": [
  {
   "cell_type": "code",
   "execution_count": 1,
   "id": "a9025274",
   "metadata": {},
   "outputs": [
    {
     "name": "stdout",
     "output_type": "stream",
     "text": [
      "시트명을 입력해 주세요:패션의류_0913\n"
     ]
    }
   ],
   "source": [
    "filename = \"datalab_word.xlsx\"\n",
    "# 해당 시트명 입력\n",
    "sheetname = input(\"시트명을 입력해 주세요:\")"
   ]
  },
  {
   "cell_type": "code",
   "execution_count": 4,
   "id": "154dc019",
   "metadata": {},
   "outputs": [],
   "source": [
    "import os\n",
    "os.getcwd()\n",
    "\n",
    "from selenium import webdriver\n",
    "from bs4 import BeautifulSoup as bs\n",
    "\n",
    "chrome_path = r'/opt/homebrew/bin/chromedriver'\n",
    "driver = webdriver.Chrome(executable_path=chrome_path)\n"
   ]
  },
  {
   "cell_type": "code",
   "execution_count": 5,
   "id": "04fa175e",
   "metadata": {},
   "outputs": [],
   "source": [
    "url = \"http://datalab.naver.com\"\n",
    "driver.get(url)"
   ]
  },
  {
   "cell_type": "code",
   "execution_count": 11,
   "id": "919044df",
   "metadata": {},
   "outputs": [
    {
     "data": {
      "text/plain": [
       "<title>네이버 데이터랩</title>"
      ]
     },
     "execution_count": 11,
     "metadata": {},
     "output_type": "execute_result"
    }
   ],
   "source": [
    "##날짜가져오기\n",
    "soup = bs(driver.page_source, 'lxml')\n",
    "soup.title"
   ]
  },
  {
   "cell_type": "code",
   "execution_count": 12,
   "id": "852ead5b",
   "metadata": {},
   "outputs": [
    {
     "data": {
      "text/plain": [
       "<span class=\"title_cell\">\n",
       "<span class=\"datetime\">{=datetime}</span>\n",
       "<span class=\"period\"><em>{=range}</em></span>\n",
       "</span>"
      ]
     },
     "execution_count": 12,
     "metadata": {},
     "output_type": "execute_result"
    }
   ],
   "source": [
    "data_all = soup.find_all(\"span\", class_=\"title_cell\")\n",
    "data_all[13]"
   ]
  },
  {
   "cell_type": "code",
   "execution_count": 13,
   "id": "0456c314",
   "metadata": {},
   "outputs": [
    {
     "name": "stdout",
     "output_type": "stream",
     "text": [
      "14\n"
     ]
    }
   ],
   "source": [
    "#총데이터 개수\n",
    "print(len(data_all))"
   ]
  },
  {
   "cell_type": "code",
   "execution_count": 14,
   "id": "0cb24b6b",
   "metadata": {},
   "outputs": [
    {
     "name": "stdout",
     "output_type": "stream",
     "text": [
      "<span class=\"title_cell\">2021.09.01.(수)</span>\n",
      "<span class=\"title_cell\">2021.09.02.(목)</span>\n",
      "<span class=\"title_cell\">2021.09.03.(금)</span>\n",
      "<span class=\"title_cell\">2021.09.04.(토)</span>\n",
      "<span class=\"title_cell\">2021.09.05.(일)</span>\n",
      "<span class=\"title_cell\">2021.09.06.(월)</span>\n",
      "<span class=\"title_cell\">2021.09.07.(화)</span>\n",
      "<span class=\"title_cell\">2021.09.08.(수)</span>\n",
      "<span class=\"title_cell\">2021.09.09.(목)</span>\n",
      "<span class=\"title_cell\">2021.09.10.(금)</span>\n",
      "<span class=\"title_cell\">2021.09.11.(토)</span>\n",
      "<span class=\"title_cell\">2021.09.12.(일)</span>\n",
      "<span class=\"title_cell\">\n",
      "<span class=\"datetime\">{=datetime}</span>\n",
      "<span class=\"period\"><em>{=range}</em></span>\n",
      "</span>\n",
      "<span class=\"title_cell\">\n",
      "<span class=\"datetime\">{=datetime}</span>\n",
      "<span class=\"period\"><em>{=range}</em></span>\n",
      "</span>\n"
     ]
    }
   ],
   "source": [
    "for i in data_all:\n",
    "    print(i)"
   ]
  },
  {
   "cell_type": "code",
   "execution_count": 24,
   "id": "2e01409a",
   "metadata": {},
   "outputs": [
    {
     "name": "stdout",
     "output_type": "stream",
     "text": [
      "2021.09.01.(수)\n",
      "2021.09.02.(목)\n",
      "2021.09.03.(금)\n",
      "2021.09.04.(토)\n",
      "2021.09.05.(일)\n",
      "2021.09.06.(월)\n",
      "2021.09.07.(화)\n",
      "2021.09.08.(수)\n",
      "2021.09.09.(목)\n",
      "2021.09.10.(금)\n",
      "2021.09.11.(토)\n",
      "2021.09.12.(일)\n",
      "\n",
      "\n"
     ]
    }
   ],
   "source": [
    "get_date = []\n",
    "for i in data_all:\n",
    "    get_date.append(i.text)\n",
    "    print(i.text)"
   ]
  },
  {
   "cell_type": "code",
   "execution_count": 25,
   "id": "7a5cbfd1",
   "metadata": {},
   "outputs": [],
   "source": [
    "#위에 지용 댓글\n",
    "# 날짜 가져오기\n",
    "date_all = soup.find_all(\"span\", class_=\"title_cell\")\n",
    "# print(len(date_all))\n",
    "\n",
    "date_list = []\n",
    "for _ in date_all:\n",
    "    if len(_.text):\n",
    "        date_list.append(_.text)"
   ]
  },
  {
   "cell_type": "code",
   "execution_count": 34,
   "id": "f70c8bae",
   "metadata": {},
   "outputs": [
    {
     "data": {
      "text/plain": [
       "<selenium.webdriver.remote.webelement.WebElement (session=\"57a3d4e68af274141aebd70f6c2850bb\", element=\"fd0f90b7-0b4e-4175-93e7-9ee6fb20285c\")>"
      ]
     },
     "execution_count": 34,
     "metadata": {},
     "output_type": "execute_result"
    }
   ],
   "source": [
    "#xpath 로가져오기\n",
    "xpath = '//*[@id=\"content\"]/div[1]/div[4]/div/div[1]/div/div/div[9]/div/div/ul/li[1]/a/span'\n",
    "one_ele = driver.find_element_by_xpath(xpath)\n",
    "one_ele"
   ]
  },
  {
   "cell_type": "code",
   "execution_count": 35,
   "id": "23e24638",
   "metadata": {},
   "outputs": [
    {
     "data": {
      "text/plain": [
       "'원피스'"
      ]
     },
     "execution_count": 35,
     "metadata": {},
     "output_type": "execute_result"
    }
   ],
   "source": [
    "one_ele.text"
   ]
  },
  {
   "cell_type": "code",
   "execution_count": 36,
   "id": "398e0fc2",
   "metadata": {},
   "outputs": [
    {
     "data": {
      "text/plain": [
       "<selenium.webdriver.remote.webelement.WebElement (session=\"57a3d4e68af274141aebd70f6c2850bb\", element=\"16c83b26-53a0-4d1e-9b6b-44809c0b0db0\")>"
      ]
     },
     "execution_count": 36,
     "metadata": {},
     "output_type": "execute_result"
    }
   ],
   "source": [
    "#10개 검색어 가져오기\n",
    "xpath = '//*[@id=\"content\"]/div[1]/div[4]/div/div[1]/div/div/div[9]/div/div/ul'\n",
    "ten_ele = driver.find_element_by_xpath(xpath)\n",
    "ten_ele"
   ]
  },
  {
   "cell_type": "code",
   "execution_count": 37,
   "id": "3a73a7a3",
   "metadata": {},
   "outputs": [
    {
     "data": {
      "text/plain": [
       "'1 원피스\\n2 가을원피스\\n3 나이키바람막이\\n4 트위드자켓\\n5 나이키후드티\\n6 후드집업\\n7 바람막이\\n8 반팔티\\n9 반바지\\n10 써스데이아일랜드원피스'"
      ]
     },
     "execution_count": 37,
     "metadata": {},
     "output_type": "execute_result"
    }
   ],
   "source": [
    "ten_ele.text"
   ]
  },
  {
   "cell_type": "code",
   "execution_count": 44,
   "id": "1f0bc009",
   "metadata": {},
   "outputs": [
    {
     "data": {
      "text/plain": [
       "['원피스',\n",
       " '가을원피스',\n",
       " '나이키바람막이',\n",
       " '트위드자켓',\n",
       " '나이키후드티',\n",
       " '후드집업',\n",
       " '바람막이',\n",
       " '반팔티',\n",
       " '반바지',\n",
       " '써스데이아일랜드원피스']"
      ]
     },
     "execution_count": 44,
     "metadata": {},
     "output_type": "execute_result"
    }
   ],
   "source": [
    "#강사님답\n",
    "#검색어1\n",
    "#검색어3\n",
    "#검색어7\n",
    "\n",
    "pop_word = []\n",
    "for num in range(1,11,1):\n",
    "    xpath_url = '//*[@id=\"content\"]/div[1]/div[4]/div/div[1]/div/div/div[9]/div/div/ul/li['+str(num)+']/a/span'\n",
    "    one_ele = driver.find_element_by_xpath(xpath_url)\n",
    "    #print(one_ele.text)\n",
    "    pop_word.append(one_ele.text)\n",
    "pop_word"
   ]
  },
  {
   "cell_type": "code",
   "execution_count": 60,
   "id": "df7cd806",
   "metadata": {},
   "outputs": [
    {
     "name": "stdout",
     "output_type": "stream",
     "text": [
      "9 일\n",
      "['원피스', '가을원피스', '나이키바람막이', '트위드자켓', '나이키후드티', '후드집업', '바람막이', '반팔티', '반바지', '써스데이아일랜드원피스']\n",
      "10 일\n",
      "['원피스', '가을원피스', '트위드자켓', '나이키바람막이', '나이키후드티', '써스데이아일랜드원피스', '반팔티', '반바지', '팬츠', '바람막이']\n",
      "11 일\n",
      "['원피스', '나이키후드티', '트위드자켓', '나이키바람막이', '가을원피스', '써스데이아일랜드원피스', '반팔티', '맨투맨', '후드집업', '반바지']\n",
      "12 일\n",
      "['원피스', '나이키후드티', '써스데이아일랜드원피스', '가을원피스', '트위드자켓', '나이키바람막이', '바람막이', '후드집업', '맨투맨', '블라우스']\n"
     ]
    }
   ],
   "source": [
    "#추가 4일간의 10개 검색어 가져오기\n",
    "page_start = 9\n",
    "page_end = 12\n",
    "\n",
    "\n",
    "for day in range(page_start,page_end+1,1):\n",
    "    four_day = []\n",
    "    \n",
    "    for num in range(1,11,1):\n",
    "        xpath_url = '//*[@id=\"content\"]/div[1]/div[4]/div/div[1]/div/div/div['+str(day)+']/div/div/ul/li['+str(num)+']/a/span'\n",
    "        one_ele = driver.find_element_by_xpath(xpath_url)\n",
    "        #print(one_ele.text)\n",
    "        four_day.append(one_ele.text)\n",
    "    print(str(day) + \" 일\")\n",
    "    print(four_day)"
   ]
  },
  {
   "cell_type": "code",
   "execution_count": null,
   "id": "5084f60d",
   "metadata": {},
   "outputs": [],
   "source": []
  }
 ],
 "metadata": {
  "kernelspec": {
   "display_name": "Python 3",
   "language": "python",
   "name": "python3"
  },
  "language_info": {
   "codemirror_mode": {
    "name": "ipython",
    "version": 3
   },
   "file_extension": ".py",
   "mimetype": "text/x-python",
   "name": "python",
   "nbconvert_exporter": "python",
   "pygments_lexer": "ipython3",
   "version": "3.8.8"
  },
  "varInspector": {
   "cols": {
    "lenName": 16,
    "lenType": 16,
    "lenVar": 40
   },
   "kernels_config": {
    "python": {
     "delete_cmd_postfix": "",
     "delete_cmd_prefix": "del ",
     "library": "var_list.py",
     "varRefreshCmd": "print(var_dic_list())"
    },
    "r": {
     "delete_cmd_postfix": ") ",
     "delete_cmd_prefix": "rm(",
     "library": "var_list.r",
     "varRefreshCmd": "cat(var_dic_list()) "
    }
   },
   "types_to_exclude": [
    "module",
    "function",
    "builtin_function_or_method",
    "instance",
    "_Feature"
   ],
   "window_display": false
  }
 },
 "nbformat": 4,
 "nbformat_minor": 5
}
