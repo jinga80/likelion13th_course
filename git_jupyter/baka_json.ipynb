{
 "cells": [
  {
   "cell_type": "code",
   "execution_count": 1,
   "id": "63e20dc0",
   "metadata": {},
   "outputs": [],
   "source": [
    "import requests\n",
    "from bs4 import BeautifulSoup as bs\n",
    "import json"
   ]
  },
  {
   "cell_type": "code",
   "execution_count": 24,
   "id": "5e13688c",
   "metadata": {},
   "outputs": [],
   "source": [
    "header = {\n",
    "    'User-Agent' : 'Mozilla/5.0 (Macintosh; Intel Mac OS X 10_15_7) AppleWebKit/537.36 (KHTML, like Gecko) Chrome/91.0.4472.164 Safari/537.36'\n",
    "}\n",
    "\n",
    "\n",
    "cook = {'ASP.NET_SessionId' : 'hlwzzyri2b0ekrny3hrvonzc',\n",
    "'.ASPXAUTH' : 'EF5AF4C00DFC37C66DBB16CBB34B20A24209BFD4AACDFA79CFAC7D26344D7ECE7B56C8606BBB620FDA9AF1C747CE9D0FE551351D1819831083EB6104F4382A2DE4194717C87FA2ACA88656D3095DB60C77EEABE0207DF7A27A820302903435DB6DAADE2B3EDD59D1290678F663A37F0990F2785FD060F845D0597E7F745A11A6'\n",
    "}\n",
    "\n",
    "r = requests.get('http://ag.ace7000.com/n/api/getuserbet.aspx', headers = header, cookies=cook)\n",
    "\n"
   ]
  },
  {
   "cell_type": "code",
   "execution_count": 28,
   "id": "3c84aa61",
   "metadata": {},
   "outputs": [
    {
     "name": "stdout",
     "output_type": "stream",
     "text": [
      "[{'amount': '3,231,700', 'bankermoney': '0', 'bet': '', 'betamount': '0', 'bpairmoney': '0', 'famount': '144', 'guid': 23936, 'id': 'syw', 'playermoney': '0', 'ppairmoney': '0', 'roomno': '커미션 바카라', 'round': '0', 'roundcode': '0', 'roundcode2': '0', 'tamouunt': '147', 'tiemoney': '0', 'type': '에볼루션'}, {'amount': '750', 'bankermoney': '0', 'bet': '', 'betamount': '0', 'bpairmoney': '0', 'famount': '0', 'guid': 21270, 'id': 'tkanfkdl', 'playermoney': '0', 'ppairmoney': '0', 'roomno': '바카라 AS1', 'round': '0', 'roundcode': '0', 'roundcode2': '0', 'tamouunt': '0', 'tiemoney': '0', 'type': 'bbin'}]\n"
     ]
    }
   ],
   "source": [
    "data = json.loads(r.content)\n",
    "print(data)"
   ]
  },
  {
   "cell_type": "code",
   "execution_count": 29,
   "id": "4311fbbd",
   "metadata": {},
   "outputs": [
    {
     "name": "stdout",
     "output_type": "stream",
     "text": [
      "{'amount': '3,231,700', 'bankermoney': '0', 'bet': '', 'betamount': '0', 'bpairmoney': '0', 'famount': '144', 'guid': 23936, 'id': 'syw', 'playermoney': '0', 'ppairmoney': '0', 'roomno': '커미션 바카라', 'round': '0', 'roundcode': '0', 'roundcode2': '0', 'tamouunt': '147', 'tiemoney': '0', 'type': '에볼루션'}\n",
      "{'amount': '750', 'bankermoney': '0', 'bet': '', 'betamount': '0', 'bpairmoney': '0', 'famount': '0', 'guid': 21270, 'id': 'tkanfkdl', 'playermoney': '0', 'ppairmoney': '0', 'roomno': '바카라 AS1', 'round': '0', 'roundcode': '0', 'roundcode2': '0', 'tamouunt': '0', 'tiemoney': '0', 'type': 'bbin'}\n"
     ]
    }
   ],
   "source": []
  },
  {
   "cell_type": "code",
   "execution_count": null,
   "id": "c6dae83c",
   "metadata": {},
   "outputs": [],
   "source": []
  }
 ],
 "metadata": {
  "kernelspec": {
   "display_name": "Python 3",
   "language": "python",
   "name": "python3"
  },
  "language_info": {
   "codemirror_mode": {
    "name": "ipython",
    "version": 3
   },
   "file_extension": ".py",
   "mimetype": "text/x-python",
   "name": "python",
   "nbconvert_exporter": "python",
   "pygments_lexer": "ipython3",
   "version": "3.8.8"
  }
 },
 "nbformat": 4,
 "nbformat_minor": 5
}
