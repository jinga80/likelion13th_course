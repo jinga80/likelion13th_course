{
 "cells": [
  {
   "cell_type": "code",
   "execution_count": 32,
   "id": "26f93c52",
   "metadata": {},
   "outputs": [],
   "source": [
    "from selenium import webdriver\n",
    "from bs4 import BeautifulSoup as bs\n",
    "from selenium.webdriver.common.keys import Keys\n",
    "\n",
    "import time"
   ]
  },
  {
   "cell_type": "code",
   "execution_count": 23,
   "id": "ac89b3be",
   "metadata": {},
   "outputs": [],
   "source": [
    "url = 'https://www.amazon.com/'\n",
    "start = time.time()\n",
    "chrome_path = r'/opt/homebrew/bin/chromedriver'\n",
    "driver = webdriver.Chrome(executable_path=chrome_path)\n",
    "driver.get(url)"
   ]
  },
  {
   "cell_type": "code",
   "execution_count": 24,
   "id": "2051a296",
   "metadata": {},
   "outputs": [],
   "source": [
    "# a = driver.find_element_by_xpath('//*[@id=\"nav-search-bar-form\"]')"
   ]
  },
  {
   "cell_type": "code",
   "execution_count": 25,
   "id": "de989a32",
   "metadata": {},
   "outputs": [],
   "source": [
    "# a.click()"
   ]
  },
  {
   "cell_type": "code",
   "execution_count": 26,
   "id": "a11764f3",
   "metadata": {},
   "outputs": [],
   "source": [
    "# a.send_key(notebook)"
   ]
  },
  {
   "cell_type": "code",
   "execution_count": 40,
   "id": "df04bcb9",
   "metadata": {},
   "outputs": [],
   "source": [
    "b = driver.find_element_by_xpath('//*[@id=\"twotabsearchtextbox\"]')"
   ]
  },
  {
   "cell_type": "code",
   "execution_count": 41,
   "id": "3035c848",
   "metadata": {},
   "outputs": [],
   "source": [
    "word = \"conputer\"\n",
    "b.send_keys(word)\n",
    "b.send_keys(Keys.ENTER)"
   ]
  },
  {
   "cell_type": "code",
   "execution_count": 44,
   "id": "bcd730c1",
   "metadata": {},
   "outputs": [],
   "source": [
    "page = driver.page_source\n",
    "soup = bs(page, 'lxml')"
   ]
  },
  {
   "cell_type": "code",
   "execution_count": 45,
   "id": "54e2dd84",
   "metadata": {},
   "outputs": [
    {
     "data": {
      "text/plain": [
       "<h2 class=\"a-size-mini a-spacing-none a-color-base s-line-clamp-2\"><a class=\"a-link-normal a-text-normal\" href=\"/gp/slredirect/picassoRedirect.html/ref=pa_sp_atf_aps_sr_pg1_1?ie=UTF8&amp;adId=A10399781VOM1501O66MY&amp;url=%2FMicrophones-Web-Cams-Computer-Conference-Streaming%2Fdp%2FB09DCKN291%2Fref%3Dsr_1_1_sspa%3Fdchild%3D1%26keywords%3Dcomputer%26qid%3D1631252759%26sr%3D8-1-spons%26psc%3D1&amp;qualifier=1631252759&amp;id=4089619894173410&amp;widgetName=sp_atf\"><span class=\"a-size-medium a-color-base a-text-normal\">6 in 1 Web-cam, HD 1080p Camera with 4 Microphones and Stereo Speaker, Wide Angle USB Web-Cams for Desktop Computer, Laptop, PC and Mac. Face-Cam for Zoom Conference, Live Streaming, and Video Gaming</span> </a> </h2>"
      ]
     },
     "execution_count": 45,
     "metadata": {},
     "output_type": "execute_result"
    }
   ],
   "source": [
    "tmp = soup.find_all('h2', class_='a-size-mini a-spacing-none a-color-base s-line-clamp-2')[0]\n",
    "tmp"
   ]
  },
  {
   "cell_type": "code",
   "execution_count": 53,
   "id": "282338d9",
   "metadata": {},
   "outputs": [
    {
     "data": {
      "text/plain": [
       "'https://www.amazon.com/s?k=conputer&ref=nb_sb_noss'"
      ]
     },
     "execution_count": 53,
     "metadata": {},
     "output_type": "execute_result"
    }
   ],
   "source": [
    "current_url = driver.current_url\n",
    "current_url"
   ]
  },
  {
   "cell_type": "code",
   "execution_count": 54,
   "id": "8fc8ce00",
   "metadata": {},
   "outputs": [
    {
     "name": "stdout",
     "output_type": "stream",
     "text": [
      "/gp/slredirect/picassoRedirect.html/ref=pa_sp_atf_aps_sr_pg1_1?ie=UTF8&adId=A10399781VOM1501O66MY&url=%2FMicrophones-Web-Cams-Computer-Conference-Streaming%2Fdp%2FB09DCKN291%2Fref%3Dsr_1_1_sspa%3Fdchild%3D1%26keywords%3Dcomputer%26qid%3D1631252759%26sr%3D8-1-spons%26psc%3D1&qualifier=1631252759&id=4089619894173410&widgetName=sp_atf\n"
     ]
    }
   ],
   "source": [
    "print(tmp.a['href'])"
   ]
  },
  {
   "cell_type": "code",
   "execution_count": 55,
   "id": "81073671",
   "metadata": {},
   "outputs": [
    {
     "name": "stdout",
     "output_type": "stream",
     "text": [
      "/gp/slredirect/picassoRedirect.html/ref=pa_sp_atf_aps_sr_pg1_1?ie=UTF8&adId=A10399781VOM1501O66MY&url=%2FMicrophones-Web-Cams-Computer-Conference-Streaming%2Fdp%2FB09DCKN291%2Fref%3Dsr_1_1_sspa%3Fdchild%3D1%26keywords%3Dcomputer%26qid%3D1631252759%26sr%3D8-1-spons%26psc%3D1&qualifier=1631252759&id=4089619894173410&widgetName=sp_atf\n"
     ]
    }
   ],
   "source": [
    "print(tmp.a.attrs['href'])"
   ]
  },
  {
   "cell_type": "code",
   "execution_count": 56,
   "id": "72f8dac0",
   "metadata": {},
   "outputs": [
    {
     "data": {
      "text/plain": [
       "'https://www.amazon.com/s?k=conputer&ref=nb_sb_noss/gp/slredirect/picassoRedirect.html/ref=pa_sp_atf_aps_sr_pg1_1?ie=UTF8&adId=A10399781VOM1501O66MY&url=%2FMicrophones-Web-Cams-Computer-Conference-Streaming%2Fdp%2FB09DCKN291%2Fref%3Dsr_1_1_sspa%3Fdchild%3D1%26keywords%3Dcomputer%26qid%3D1631252759%26sr%3D8-1-spons%26psc%3D1&qualifier=1631252759&id=4089619894173410&widgetName=sp_atf'"
      ]
     },
     "execution_count": 56,
     "metadata": {},
     "output_type": "execute_result"
    }
   ],
   "source": [
    "# 전체 URL을 얻는다.\n",
    "current_url + tmp.a.attrs['href']"
   ]
  },
  {
   "cell_type": "code",
   "execution_count": null,
   "id": "2adf7e4a",
   "metadata": {},
   "outputs": [],
   "source": []
  }
 ],
 "metadata": {
  "kernelspec": {
   "display_name": "Python 3",
   "language": "python",
   "name": "python3"
  },
  "language_info": {
   "codemirror_mode": {
    "name": "ipython",
    "version": 3
   },
   "file_extension": ".py",
   "mimetype": "text/x-python",
   "name": "python",
   "nbconvert_exporter": "python",
   "pygments_lexer": "ipython3",
   "version": "3.8.8"
  },
  "varInspector": {
   "cols": {
    "lenName": 16,
    "lenType": 16,
    "lenVar": 40
   },
   "kernels_config": {
    "python": {
     "delete_cmd_postfix": "",
     "delete_cmd_prefix": "del ",
     "library": "var_list.py",
     "varRefreshCmd": "print(var_dic_list())"
    },
    "r": {
     "delete_cmd_postfix": ") ",
     "delete_cmd_prefix": "rm(",
     "library": "var_list.r",
     "varRefreshCmd": "cat(var_dic_list()) "
    }
   },
   "types_to_exclude": [
    "module",
    "function",
    "builtin_function_or_method",
    "instance",
    "_Feature"
   ],
   "window_display": false
  }
 },
 "nbformat": 4,
 "nbformat_minor": 5
}
